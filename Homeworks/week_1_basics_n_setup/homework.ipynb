{
 "cells": [
  {
   "cell_type": "markdown",
   "id": "0f7b9164-3db9-43e2-9701-d5aef403204f",
   "metadata": {},
   "source": [
    "## Week 1 Homework"
   ]
  },
  {
   "cell_type": "markdown",
   "id": "f54be22f-e7d0-43fa-8fc6-252d73fef525",
   "metadata": {},
   "source": [
    "In this homework we'll prepare the environment \n",
    "and practice with terraform and SQL"
   ]
  },
  {
   "cell_type": "markdown",
   "id": "f8225266-2f87-415f-900c-ea7c5a836bd6",
   "metadata": {},
   "source": [
    "## Question 1. Google Cloud SDK"
   ]
  },
  {
   "cell_type": "markdown",
   "id": "05d1880e-8183-4fa9-afaf-5cae7bd660b8",
   "metadata": {},
   "source": [
    "Install Google Cloud SDK. What's the version you have? \n",
    "\n",
    "To get the version, run `gcloud --version`"
   ]
  },
  {
   "cell_type": "code",
   "execution_count": 1,
   "id": "181066dc-f3ff-4aec-b504-125c026faf35",
   "metadata": {},
   "outputs": [
    {
     "name": "stdout",
     "output_type": "stream",
     "text": [
      "Google Cloud SDK 369.0.0\n",
      "bq 2.0.72\n",
      "core 2022.01.14\n",
      "gsutil 5.6"
     ]
    },
    {
     "name": "stderr",
     "output_type": "stream",
     "text": [
      "Python \n"
     ]
    },
    {
     "name": "stdout",
     "output_type": "stream",
     "text": [
      "\n"
     ]
    }
   ],
   "source": [
    "!gcloud --version"
   ]
  },
  {
   "cell_type": "markdown",
   "id": "a6e562c6-6bae-4056-8419-e555900c701e",
   "metadata": {},
   "source": [
    "## Google Cloud account "
   ]
  },
  {
   "cell_type": "markdown",
   "id": "afe4aca9-e8dd-4801-b536-70f48355f486",
   "metadata": {},
   "source": [
    "Create an account in Google Cloud and create a project."
   ]
  },
  {
   "cell_type": "markdown",
   "id": "94804286-6ea7-4ffa-aba9-85170c7772af",
   "metadata": {},
   "source": [
    "## Question 2. Terraform \n"
   ]
  },
  {
   "cell_type": "markdown",
   "id": "b62f7934-40f3-44c1-8123-629540d5ac3b",
   "metadata": {},
   "source": [
    "Now install terraform and go to the terraform directory (`week_1_basics_n_setup/1_terraform_gcp/terraform`)\n",
    "\n",
    "After that, run\n",
    "\n",
    "* `terraform init`\n",
    "* `terraform plan`\n",
    "* `terraform apply` \n",
    "\n",
    "Apply the plan and copy the output (after running `apply`) to the form.\n",
    "\n",
    "It should be the entire output - from the moment you typed `terraform init` to the very end."
   ]
  },
  {
   "cell_type": "markdown",
   "id": "db3db936-4ec5-413f-aeae-91af44c0b783",
   "metadata": {},
   "source": [
    "```bash\n",
    "Terraform used the selected providers to generate the following execution\n",
    "plan. Resource actions are indicated with the following symbols:\n",
    "  + create\n",
    "\n",
    "Terraform will perform the following actions:\n",
    "\n",
    "  # google_bigquery_dataset.dataset will be created\n",
    "  + resource \"google_bigquery_dataset\" \"dataset\" {\n",
    "      + creation_time              = (known after apply)\n",
    "      + dataset_id                 = \"trips_data_all\"\n",
    "      + delete_contents_on_destroy = false\n",
    "      + etag                       = (known after apply)\n",
    "      + id                         = (known after apply)\n",
    "      + last_modified_time         = (known after apply)\n",
    "      + location                   = \"europe-west6\"\n",
    "      + project                    = \"dtc-de-339112\"\n",
    "      + self_link                  = (known after apply)\n",
    "\n",
    "      + access {\n",
    "          + domain         = (known after apply)\n",
    "          + group_by_email = (known after apply)\n",
    "          + role           = (known after apply)\n",
    "          + special_group  = (known after apply)\n",
    "          + user_by_email  = (known after apply)\n",
    "\n",
    "          + view {\n",
    "              + dataset_id = (known after apply)\n",
    "              + project_id = (known after apply)\n",
    "              + table_id   = (known after apply)\n",
    "            }\n",
    "        }\n",
    "    }\n",
    "\n",
    "  # google_storage_bucket.data-lake-bucket will be created\n",
    "  + resource \"google_storage_bucket\" \"data-lake-bucket\" {\n",
    "      + force_destroy               = true\n",
    "      + id                          = (known after apply)\n",
    "      + location                    = \"EUROPE-WEST6\"\n",
    "      + name                        = \"dtc_data_lake_dtc-de-339112\"\n",
    "      + project                     = (known after apply)\n",
    "      + self_link                   = (known after apply)\n",
    "      + storage_class               = \"STANDARD\"\n",
    "      + uniform_bucket_level_access = true\n",
    "      + url                         = (known after apply)\n",
    "\n",
    "      + lifecycle_rule {\n",
    "          + action {\n",
    "              + type = \"Delete\"\n",
    "            }\n",
    "\n",
    "          + condition {\n",
    "              + age                   = 30\n",
    "              + matches_storage_class = []\n",
    "              + with_state            = (known after apply)\n",
    "            }\n",
    "        }\n",
    "\n",
    "      + versioning {\n",
    "          + enabled = true\n",
    "        }\n",
    "    }\n",
    "\n",
    "Plan: 2 to add, 0 to change, 0 to destroy.\n",
    "\n",
    "Do you want to perform these actions?\n",
    "  Terraform will perform the actions described above.\n",
    "  Only 'yes' will be accepted to approve.\n",
    "\n",
    "  Enter a value: yes\n",
    "\n",
    "google_bigquery_dataset.dataset: Creating...\n",
    "google_storage_bucket.data-lake-bucket: Creating...\n",
    "google_storage_bucket.data-lake-bucket: Creation complete after 2s [id=dtc_data_lake_dtc-de-339112]\n",
    "google_bigquery_dataset.dataset: Creation complete after 2s [id=projects/dtc-de-339112/datasets/trips_data_all]\n",
    "\n",
    "Apply complete! Resources: 2 added, 0 changed, 0 destroyed.\n",
    "```"
   ]
  },
  {
   "cell_type": "markdown",
   "id": "81e21d53-4262-462c-bf60-7e1d66087fa5",
   "metadata": {},
   "source": [
    "## Prepare Postgres "
   ]
  },
  {
   "cell_type": "markdown",
   "id": "bfc24fc9-d33d-4f4d-8b8d-1548c0fdd947",
   "metadata": {},
   "source": [
    "un Postgres and load data as shown in the videos\n",
    "\n",
    "We'll use the yellow taxi trips from January 2021:\n",
    "\n",
    "```bash\n",
    "wget https://s3.amazonaws.com/nyc-tlc/trip+data/yellow_tripdata_2021-01.csv\n",
    "```\n",
    "\n",
    "You will also need the dataset with zones:\n",
    "\n",
    "```bash \n",
    "wget https://s3.amazonaws.com/nyc-tlc/misc/taxi+_zone_lookup.csv\n",
    "```\n",
    "\n",
    "Download this data and put it to Postgres"
   ]
  },
  {
   "cell_type": "markdown",
   "id": "3ffc48a2-ae69-4a2f-bc32-1d7934065eef",
   "metadata": {},
   "source": [
    "## Question 3. Count records "
   ]
  },
  {
   "cell_type": "markdown",
   "id": "412f3a57-edc9-4b12-8967-644324ccba24",
   "metadata": {},
   "source": [
    "How many taxi trips were there on January 15?\n",
    "\n",
    "Consider only trips that started on January 15."
   ]
  },
  {
   "cell_type": "markdown",
   "id": "0f894f8a-6e17-499c-ba8e-6adc0fa878df",
   "metadata": {},
   "source": [
    "```sql\n",
    "SELECT COUNT(*)\n",
    "FROM yellow_taxi_trips\n",
    "WHERE tpep_pickup_datetime >= '2021-01-15' \n",
    "\tAND tpep_pickup_datetime < '2021-01-16';\n",
    "```"
   ]
  },
  {
   "cell_type": "markdown",
   "id": "0b9910c2-cc86-4ea9-a15f-52e4d0b07d0a",
   "metadata": {},
   "source": [
    ">53024 trips"
   ]
  },
  {
   "cell_type": "markdown",
   "id": "d40e85d3-c70c-49a8-8b42-5f299338e11b",
   "metadata": {},
   "source": [
    "## Question 4. Largest tip for each day"
   ]
  },
  {
   "cell_type": "markdown",
   "id": "c0e903bf-3dab-4b25-aa4d-56ac84297d3d",
   "metadata": {},
   "source": [
    "Find the largest tip for each day. \n",
    "On which day it was the largest tip in January?\n",
    "\n",
    "Use the pick up time for your calculations.\n",
    "\n",
    "(note: it's not a typo, it's \"tip\", not \"trip\")"
   ]
  },
  {
   "cell_type": "markdown",
   "id": "0e0b4621-cde9-4ad3-a188-56cf02d3a702",
   "metadata": {},
   "source": [
    "```sql\n",
    "SELECT \n",
    "\tCAST(tpep_pickup_datetime as DATE) AS \"day\", \n",
    "\tMAX(tip_amount) AS \"max_tips\"\n",
    "FROM yellow_taxi_trips\n",
    "GROUP BY day\n",
    "ORDER BY max_tips DESC;\n",
    "```"
   ]
  },
  {
   "cell_type": "markdown",
   "id": "50dfb0fa-ee2f-4d72-b1d4-4b88125b8415",
   "metadata": {},
   "source": [
    "> 2021-01-20"
   ]
  },
  {
   "cell_type": "markdown",
   "id": "b99edcf8-8241-449c-8459-eed7bf62e230",
   "metadata": {},
   "source": [
    "## Question 5. Most popular destination"
   ]
  },
  {
   "cell_type": "markdown",
   "id": "5fc3a5db-c79b-4b6c-9947-8cbf7bf82fe1",
   "metadata": {},
   "source": [
    "What was the most popular destination for passengers picked up \n",
    "in central park on January 14?\n",
    "\n",
    "Use the pick up time for your calculations.\n",
    "\n",
    "Enter the zone name (not id). If the zone name is unknown (missing), write \"Unknown\" "
   ]
  },
  {
   "cell_type": "markdown",
   "id": "c43db99a-9b5e-4fca-81c9-d1a40950a545",
   "metadata": {},
   "source": [
    "```sql\n",
    "SELECT \n",
    "\tzdo.\"Zone\" AS \"dropoff_loc\",\n",
    "\tCOUNT(1) AS \"amount\"\n",
    "FROM yellow_taxi_trips trips\n",
    "\tLEFT JOIN yellow_taxi_zones zpu\n",
    "\t\tON trips.\"PULocationID\" = zpu.\"LocationID\"\n",
    "\tLEFT JOIN yellow_taxi_zones zdo\n",
    "\t\tON trips.\"DOLocationID\" = zdo.\"LocationID\"\n",
    "WHERE trips.tpep_pickup_datetime >= '2021-01-14' \n",
    "\tAND trips.tpep_pickup_datetime < '2021-01-15'\n",
    "\tAND zpu.\"Zone\" = 'Central Park'\n",
    "GROUP BY dropoff_loc\n",
    "ORDER BY amount DESC;\n",
    "```"
   ]
  },
  {
   "cell_type": "markdown",
   "id": "267738ab-8238-4a55-acf2-36e77679f1dd",
   "metadata": {},
   "source": [
    "> Upper East Side South zone"
   ]
  },
  {
   "cell_type": "markdown",
   "id": "ac86bb4c-e4da-4d71-887e-310aa4560539",
   "metadata": {},
   "source": [
    "## Question 6. Most expensive locations"
   ]
  },
  {
   "cell_type": "markdown",
   "id": "db1f1de4-264e-4579-b4ab-16095923afd6",
   "metadata": {},
   "source": [
    "What's the pickup-dropoff pair with the largest \n",
    "average price for a ride (calculated based on `total_amount`)?\n",
    "\n",
    "Enter two zone names separated by a slash\n",
    "\n",
    "For example:\n",
    "\n",
    "\"Jamaica Bay / Clinton East\"\n",
    "\n",
    "If any of the zone names are unknown (missing), write \"Unknown\". For example, \"Unknown / Clinton East\". "
   ]
  },
  {
   "cell_type": "markdown",
   "id": "c84b10c9-fbcc-4b75-967b-680fda913fd6",
   "metadata": {},
   "source": [
    "```sql\n",
    "SELECT \n",
    "\tCONCAT(zpu.\"Zone\", ' / ', zdo.\"Zone\") AS \"route\",\n",
    "\tAVG(trips.\"total_amount\") AS \"average_price\"\n",
    "FROM yellow_taxi_trips trips\n",
    "\tLEFT JOIN yellow_taxi_zones zpu\n",
    "\t\tON trips.\"PULocationID\" = zpu.\"LocationID\"\n",
    "\tLEFT JOIN yellow_taxi_zones zdo\n",
    "\t\tON trips.\"DOLocationID\" = zdo.\"LocationID\"\n",
    "GROUP BY route;\n",
    "```"
   ]
  },
  {
   "cell_type": "markdown",
   "id": "3e32a855-02a5-40cd-813f-77d59f491596",
   "metadata": {},
   "source": [
    "> Alphabet City / Unknown pair"
   ]
  }
 ],
 "metadata": {
  "kernelspec": {
   "display_name": "Python 3 (ipykernel)",
   "language": "python",
   "name": "python3"
  },
  "language_info": {
   "codemirror_mode": {
    "name": "ipython",
    "version": 3
   },
   "file_extension": ".py",
   "mimetype": "text/x-python",
   "name": "python",
   "nbconvert_exporter": "python",
   "pygments_lexer": "ipython3",
   "version": "3.9.0"
  }
 },
 "nbformat": 4,
 "nbformat_minor": 5
}
