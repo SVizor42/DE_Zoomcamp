{
 "cells": [
  {
   "cell_type": "code",
   "execution_count": 1,
   "id": "4f6297b2-7149-4d07-809a-9c51188926d5",
   "metadata": {},
   "outputs": [],
   "source": [
    "import pyspark\n",
    "from pyspark.sql import SparkSession"
   ]
  },
  {
   "cell_type": "code",
   "execution_count": 3,
   "id": "0dc3ed48-7dba-4d83-a162-39d89cd7518a",
   "metadata": {},
   "outputs": [],
   "source": [
    "spark = SparkSession.builder \\\n",
    "    .master(\"local[*]\") \\\n",
    "    .appName('test') \\\n",
    "    .getOrCreate()"
   ]
  },
  {
   "cell_type": "code",
   "execution_count": 4,
   "id": "3eab47a9-9b39-4662-9683-81090f18e00b",
   "metadata": {},
   "outputs": [
    {
     "data": {
      "text/plain": [
       "'3.0.3'"
      ]
     },
     "execution_count": 4,
     "metadata": {},
     "output_type": "execute_result"
    }
   ],
   "source": [
    "spark.version"
   ]
  },
  {
   "cell_type": "code",
   "execution_count": null,
   "id": "3a9952da-08bb-4ab2-9ebb-bfa5814f6ac3",
   "metadata": {},
   "outputs": [],
   "source": [
    "!wget https://nyc-tlc.s3.amazonaws.com/trip+data/fhvhv_tripdata_2021-01.csv"
   ]
  },
  {
   "cell_type": "markdown",
   "id": "149a4079-dece-4206-9dcb-167c9fd84967",
   "metadata": {},
   "source": [
    "```bash\n",
    "!wc -l fhvhv_tripdata_2021-01.csv\n",
    "11908469 fhvhv_tripdata_2021-01.csv\n",
    "```"
   ]
  },
  {
   "cell_type": "code",
   "execution_count": 29,
   "id": "b84f688f-4762-492c-b8c0-ee08ce3b12eb",
   "metadata": {},
   "outputs": [],
   "source": [
    "df = spark.read \\\n",
    "    .option(\"header\", \"true\") \\\n",
    "    .csv('fhvhv_tripdata_2021-01.csv')"
   ]
  },
  {
   "cell_type": "code",
   "execution_count": 30,
   "id": "8e824414-3cb3-4093-8f05-b4383cec7d22",
   "metadata": {},
   "outputs": [
    {
     "data": {
      "text/plain": [
       "StructType(List(StructField(hvfhs_license_num,StringType,true),StructField(dispatching_base_num,StringType,true),StructField(pickup_datetime,StringType,true),StructField(dropoff_datetime,StringType,true),StructField(PULocationID,StringType,true),StructField(DOLocationID,StringType,true),StructField(SR_Flag,StringType,true)))"
      ]
     },
     "execution_count": 30,
     "metadata": {},
     "output_type": "execute_result"
    }
   ],
   "source": [
    "df.schema"
   ]
  },
  {
   "cell_type": "markdown",
   "id": "ea838f04-5b50-4fd2-a043-90b6304306e7",
   "metadata": {},
   "source": [
    "```bash\n",
    "!head -n 1001 fhvhv_tripdata_2021-01.csv > head.csv\n",
    "```"
   ]
  },
  {
   "cell_type": "code",
   "execution_count": 31,
   "id": "83c723d8-e573-4f44-b4ff-8d24689b94fc",
   "metadata": {},
   "outputs": [],
   "source": [
    "import pandas as pd"
   ]
  },
  {
   "cell_type": "code",
   "execution_count": 32,
   "id": "55e281fb-b2ed-4057-b06f-57a744f906d4",
   "metadata": {},
   "outputs": [],
   "source": [
    "df_pandas = pd.read_csv('head.csv')"
   ]
  },
  {
   "cell_type": "code",
   "execution_count": 33,
   "id": "2bd80413-1f60-43bf-99d6-b089bd85980b",
   "metadata": {},
   "outputs": [
    {
     "data": {
      "text/plain": [
       "hvfhs_license_num        object\n",
       "dispatching_base_num     object\n",
       "pickup_datetime          object\n",
       "dropoff_datetime         object\n",
       "PULocationID              int64\n",
       "DOLocationID              int64\n",
       "SR_Flag                 float64\n",
       "dtype: object"
      ]
     },
     "execution_count": 33,
     "metadata": {},
     "output_type": "execute_result"
    }
   ],
   "source": [
    "df_pandas.dtypes"
   ]
  },
  {
   "cell_type": "code",
   "execution_count": 34,
   "id": "f69d5438-ebaf-454e-bcca-fb8ab5be39a2",
   "metadata": {},
   "outputs": [
    {
     "data": {
      "text/plain": [
       "StructType(List(StructField(hvfhs_license_num,StringType,true),StructField(dispatching_base_num,StringType,true),StructField(pickup_datetime,StringType,true),StructField(dropoff_datetime,StringType,true),StructField(PULocationID,LongType,true),StructField(DOLocationID,LongType,true),StructField(SR_Flag,DoubleType,true)))"
      ]
     },
     "execution_count": 34,
     "metadata": {},
     "output_type": "execute_result"
    }
   ],
   "source": [
    "spark.createDataFrame(df_pandas).schema"
   ]
  },
  {
   "cell_type": "code",
   "execution_count": 17,
   "id": "bc53753f-b6f4-4987-a908-6279643c1dbb",
   "metadata": {},
   "outputs": [],
   "source": [
    "from pyspark.sql import types"
   ]
  },
  {
   "cell_type": "code",
   "execution_count": 18,
   "id": "9da13b44-d51e-4408-89dd-02b7c23653a1",
   "metadata": {},
   "outputs": [],
   "source": [
    "schema = types.StructType([\n",
    "    types.StructField('hvfhs_license_num', types.StringType(), True),\n",
    "    types.StructField('dispatching_base_num', types.StringType(), True),\n",
    "    types.StructField('pickup_datetime', types.TimestampType(), True),\n",
    "    types.StructField('dropoff_datetime', types.TimestampType(), True),\n",
    "    types.StructField('PULocationID', types.IntegerType(), True),\n",
    "    types.StructField('DOLocationID', types.IntegerType(), True),\n",
    "    types.StructField('SR_Flag', types.StringType(), True)\n",
    "])"
   ]
  },
  {
   "cell_type": "code",
   "execution_count": 19,
   "id": "fa6adbff-3d6f-4b99-8789-c3bcde078b6d",
   "metadata": {},
   "outputs": [],
   "source": [
    "df = spark.read \\\n",
    "    .option(\"header\", \"true\") \\\n",
    "    .schema(schema) \\\n",
    "    .csv('fhvhv_tripdata_2021-01.csv')"
   ]
  },
  {
   "cell_type": "code",
   "execution_count": 20,
   "id": "7f3dc9a4-744b-4c1f-a55f-4ec31b60992f",
   "metadata": {},
   "outputs": [],
   "source": [
    "df = df.repartition(24)"
   ]
  },
  {
   "cell_type": "code",
   "execution_count": 21,
   "id": "28b5ac78-ebde-48e2-8d39-51424487c6e9",
   "metadata": {},
   "outputs": [],
   "source": [
    "df.write.parquet('fhvhv/2021/01/')"
   ]
  },
  {
   "cell_type": "code",
   "execution_count": 35,
   "id": "c123f736-f5d5-4699-b236-5e9f9aa80c40",
   "metadata": {},
   "outputs": [],
   "source": [
    "df = spark.read.parquet('fhvhv/2021/01/')"
   ]
  },
  {
   "cell_type": "code",
   "execution_count": 36,
   "id": "6122f713-b6fe-46d1-81d0-248ac865793d",
   "metadata": {},
   "outputs": [
    {
     "name": "stdout",
     "output_type": "stream",
     "text": [
      "root\n",
      " |-- hvfhs_license_num: string (nullable = true)\n",
      " |-- dispatching_base_num: string (nullable = true)\n",
      " |-- pickup_datetime: timestamp (nullable = true)\n",
      " |-- dropoff_datetime: timestamp (nullable = true)\n",
      " |-- PULocationID: integer (nullable = true)\n",
      " |-- DOLocationID: integer (nullable = true)\n",
      " |-- SR_Flag: string (nullable = true)\n",
      "\n"
     ]
    }
   ],
   "source": [
    "df.printSchema()"
   ]
  },
  {
   "cell_type": "markdown",
   "id": "449aed03-b2bf-47e6-a9eb-f3e99e1ee4fc",
   "metadata": {},
   "source": [
    "```sql\n",
    "SELECT * FROM df WHERE hvfhs_license_num = HV0003\n",
    "```"
   ]
  },
  {
   "cell_type": "code",
   "execution_count": 37,
   "id": "21878a9f-3f20-4ee7-bfde-8e499523da44",
   "metadata": {},
   "outputs": [],
   "source": [
    "from pyspark.sql import functions as F"
   ]
  },
  {
   "cell_type": "code",
   "execution_count": 38,
   "id": "fff4c7a2-d435-4314-aa6e-165e62c832f5",
   "metadata": {},
   "outputs": [
    {
     "name": "stdout",
     "output_type": "stream",
     "text": [
      "+-----------------+--------------------+-------------------+-------------------+------------+------------+-------+\n",
      "|hvfhs_license_num|dispatching_base_num|    pickup_datetime|   dropoff_datetime|PULocationID|DOLocationID|SR_Flag|\n",
      "+-----------------+--------------------+-------------------+-------------------+------------+------------+-------+\n",
      "|           HV0005|              B02510|2021-01-02 17:05:47|2021-01-02 17:21:03|          42|         166|   null|\n",
      "|           HV0003|              B02765|2021-01-04 13:04:14|2021-01-04 13:35:32|         188|         170|   null|\n",
      "|           HV0005|              B02510|2021-01-02 20:43:11|2021-01-02 20:52:44|         231|         158|   null|\n",
      "|           HV0003|              B02764|2021-01-01 04:20:52|2021-01-01 04:45:01|         145|         265|   null|\n",
      "|           HV0003|              B02878|2021-01-01 01:55:17|2021-01-01 02:15:29|          26|         188|   null|\n",
      "|           HV0005|              B02510|2021-01-01 05:38:34|2021-01-01 05:46:46|         198|          80|   null|\n",
      "|           HV0005|              B02510|2021-01-03 20:51:06|2021-01-03 21:09:30|          40|          21|   null|\n",
      "|           HV0003|              B02883|2021-01-01 02:21:46|2021-01-01 02:50:58|         141|         265|   null|\n",
      "|           HV0003|              B02884|2021-01-03 22:51:18|2021-01-03 23:02:59|         242|          18|   null|\n",
      "|           HV0003|              B02887|2021-01-05 02:05:03|2021-01-05 02:19:47|          76|          76|   null|\n",
      "|           HV0003|              B02876|2021-01-01 15:35:13|2021-01-01 15:53:47|           7|          82|   null|\n",
      "|           HV0005|              B02510|2021-01-03 09:35:58|2021-01-03 09:57:38|         152|         138|   null|\n",
      "|           HV0003|              B02682|2021-01-02 08:35:52|2021-01-02 08:45:09|         133|          89|   null|\n",
      "|           HV0005|              B02510|2021-01-02 13:56:25|2021-01-02 14:05:33|          10|         216|   null|\n",
      "|           HV0003|              B02887|2021-01-01 23:15:11|2021-01-01 23:48:36|         205|          72|   null|\n",
      "|           HV0005|              B02510|2021-01-02 19:45:26|2021-01-02 19:59:10|         238|         243|   null|\n",
      "|           HV0003|              B02870|2021-01-01 02:54:19|2021-01-01 03:11:10|         116|         170|   null|\n",
      "|           HV0003|              B02764|2021-01-01 02:48:55|2021-01-01 03:03:25|         185|         174|   null|\n",
      "|           HV0003|              B02617|2021-01-03 11:48:30|2021-01-03 12:02:41|          62|          25|   null|\n",
      "|           HV0003|              B02864|2021-01-02 19:52:12|2021-01-02 20:10:45|         113|         265|   null|\n",
      "+-----------------+--------------------+-------------------+-------------------+------------+------------+-------+\n",
      "only showing top 20 rows\n",
      "\n"
     ]
    }
   ],
   "source": [
    "df.show()"
   ]
  },
  {
   "cell_type": "code",
   "execution_count": 39,
   "id": "39a03566-6b68-451e-9748-8f1f4a066ae9",
   "metadata": {},
   "outputs": [],
   "source": [
    "def crazy_stuff(base_num):\n",
    "    num = int(base_num[1:])\n",
    "    if num % 7 == 0:\n",
    "        return f's/{num:03x}'\n",
    "    elif num % 3 == 0:\n",
    "        return f'a/{num:03x}'\n",
    "    else:\n",
    "        return f'e/{num:03x}'"
   ]
  },
  {
   "cell_type": "code",
   "execution_count": 40,
   "id": "547d43f7-fec1-44eb-b363-5f9380269058",
   "metadata": {},
   "outputs": [
    {
     "data": {
      "text/plain": [
       "'s/b44'"
      ]
     },
     "execution_count": 40,
     "metadata": {},
     "output_type": "execute_result"
    }
   ],
   "source": [
    "crazy_stuff('B02884')"
   ]
  },
  {
   "cell_type": "code",
   "execution_count": 41,
   "id": "176eadd6-783a-4db9-953a-d1c64b6a488b",
   "metadata": {},
   "outputs": [],
   "source": [
    "crazy_stuff_udf = F.udf(crazy_stuff, returnType=types.StringType())"
   ]
  },
  {
   "cell_type": "code",
   "execution_count": 42,
   "id": "81d676c2-b066-4b4d-82e8-8ba115026ba0",
   "metadata": {},
   "outputs": [
    {
     "name": "stdout",
     "output_type": "stream",
     "text": [
      "+-------+-----------+------------+------------+------------+\n",
      "|base_id|pickup_date|dropoff_date|PULocationID|DOLocationID|\n",
      "+-------+-----------+------------+------------+------------+\n",
      "|  e/9ce| 2021-01-02|  2021-01-02|          42|         166|\n",
      "|  s/acd| 2021-01-04|  2021-01-04|         188|         170|\n",
      "|  e/9ce| 2021-01-02|  2021-01-02|         231|         158|\n",
      "|  e/acc| 2021-01-01|  2021-01-01|         145|         265|\n",
      "|  e/b3e| 2021-01-01|  2021-01-01|          26|         188|\n",
      "|  e/9ce| 2021-01-01|  2021-01-01|         198|          80|\n",
      "|  e/9ce| 2021-01-03|  2021-01-03|          40|          21|\n",
      "|  a/b43| 2021-01-01|  2021-01-01|         141|         265|\n",
      "|  s/b44| 2021-01-03|  2021-01-03|         242|          18|\n",
      "|  e/b47| 2021-01-05|  2021-01-05|          76|          76|\n",
      "|  e/b3c| 2021-01-01|  2021-01-01|           7|          82|\n",
      "|  e/9ce| 2021-01-03|  2021-01-03|         152|         138|\n",
      "|  a/a7a| 2021-01-02|  2021-01-02|         133|          89|\n",
      "|  e/9ce| 2021-01-02|  2021-01-02|          10|         216|\n",
      "|  e/b47| 2021-01-01|  2021-01-01|         205|          72|\n",
      "|  e/9ce| 2021-01-02|  2021-01-02|         238|         243|\n",
      "|  s/b36| 2021-01-01|  2021-01-01|         116|         170|\n",
      "|  e/acc| 2021-01-01|  2021-01-01|         185|         174|\n",
      "|  e/a39| 2021-01-03|  2021-01-03|          62|          25|\n",
      "|  e/b30| 2021-01-02|  2021-01-02|         113|         265|\n",
      "+-------+-----------+------------+------------+------------+\n",
      "only showing top 20 rows\n",
      "\n"
     ]
    }
   ],
   "source": [
    "df \\\n",
    "    .withColumn('pickup_date', F.to_date(df.pickup_datetime)) \\\n",
    "    .withColumn('dropoff_date', F.to_date(df.dropoff_datetime)) \\\n",
    "    .withColumn('base_id', crazy_stuff_udf(df.dispatching_base_num)) \\\n",
    "    .select('base_id', 'pickup_date', 'dropoff_date', 'PULocationID', 'DOLocationID') \\\n",
    "    .show()"
   ]
  },
  {
   "cell_type": "code",
   "execution_count": 43,
   "id": "bac7011a-1ab7-479f-bbc1-267539c22c59",
   "metadata": {},
   "outputs": [
    {
     "data": {
      "text/plain": [
       "DataFrame[pickup_datetime: timestamp, dropoff_datetime: timestamp, PULocationID: int, DOLocationID: int]"
      ]
     },
     "execution_count": 43,
     "metadata": {},
     "output_type": "execute_result"
    }
   ],
   "source": [
    "df.select('pickup_datetime', 'dropoff_datetime', 'PULocationID', 'DOLocationID') \\\n",
    "  .filter(df.hvfhs_license_num == 'HV0003')"
   ]
  }
 ],
 "metadata": {
  "kernelspec": {
   "display_name": "Python 3 (ipykernel)",
   "language": "python",
   "name": "python3"
  },
  "language_info": {
   "codemirror_mode": {
    "name": "ipython",
    "version": 3
   },
   "file_extension": ".py",
   "mimetype": "text/x-python",
   "name": "python",
   "nbconvert_exporter": "python",
   "pygments_lexer": "ipython3",
   "version": "3.9.0"
  }
 },
 "nbformat": 4,
 "nbformat_minor": 5
}
