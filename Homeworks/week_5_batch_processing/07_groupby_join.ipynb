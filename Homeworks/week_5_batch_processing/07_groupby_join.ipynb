{
 "cells": [
  {
   "cell_type": "code",
   "execution_count": 2,
   "id": "4341e0e6",
   "metadata": {},
   "outputs": [],
   "source": [
    "import pyspark\n",
    "from pyspark.sql import SparkSession\n",
    "\n",
    "spark = SparkSession.builder \\\n",
    "    .master(\"local[*]\") \\\n",
    "    .appName('test') \\\n",
    "    .getOrCreate()"
   ]
  },
  {
   "cell_type": "code",
   "execution_count": 2,
   "id": "cd304aec",
   "metadata": {},
   "outputs": [],
   "source": [
    "df_green = spark.read.parquet('data/pq/green/*/*')"
   ]
  },
  {
   "cell_type": "code",
   "execution_count": 3,
   "id": "243991f3",
   "metadata": {},
   "outputs": [],
   "source": [
    "df_green.registerTempTable('green')"
   ]
  },
  {
   "cell_type": "code",
   "execution_count": 4,
   "id": "e43764a7",
   "metadata": {},
   "outputs": [],
   "source": [
    "df_green_revenue = spark.sql(\"\"\"\n",
    "SELECT \n",
    "    date_trunc('hour', lpep_pickup_datetime) AS hour, \n",
    "    PULocationID AS zone,\n",
    "\n",
    "    SUM(total_amount) AS amount,\n",
    "    COUNT(1) AS number_records\n",
    "FROM\n",
    "    green\n",
    "WHERE\n",
    "    lpep_pickup_datetime >= '2020-01-01 00:00:00'\n",
    "GROUP BY\n",
    "    1, 2\n",
    "\"\"\")"
   ]
  },
  {
   "cell_type": "code",
   "execution_count": 5,
   "id": "3e00310e",
   "metadata": {},
   "outputs": [],
   "source": [
    "df_green_revenue \\\n",
    "    .repartition(20) \\\n",
    "    .write.parquet('data/report/revenue/green', mode='overwrite')"
   ]
  },
  {
   "cell_type": "code",
   "execution_count": 6,
   "id": "07ebb68c",
   "metadata": {},
   "outputs": [],
   "source": [
    "df_yellow = spark.read.parquet('data/pq/yellow/*/*')\n",
    "df_yellow.registerTempTable('yellow')"
   ]
  },
  {
   "cell_type": "code",
   "execution_count": 7,
   "id": "9d5be29d",
   "metadata": {},
   "outputs": [],
   "source": [
    "df_yellow_revenue = spark.sql(\"\"\"\n",
    "SELECT \n",
    "    date_trunc('hour', tpep_pickup_datetime) AS hour, \n",
    "    PULocationID AS zone,\n",
    "\n",
    "    SUM(total_amount) AS amount,\n",
    "    COUNT(1) AS number_records\n",
    "FROM\n",
    "    yellow\n",
    "WHERE\n",
    "    tpep_pickup_datetime >= '2020-01-01 00:00:00'\n",
    "GROUP BY\n",
    "    1, 2\n",
    "\"\"\")"
   ]
  },
  {
   "cell_type": "code",
   "execution_count": 8,
   "id": "8bd9264e",
   "metadata": {},
   "outputs": [],
   "source": [
    "df_yellow_revenue \\\n",
    "    .repartition(20) \\\n",
    "    .write.parquet('data/report/revenue/yellow', mode='overwrite')"
   ]
  },
  {
   "cell_type": "code",
   "execution_count": 3,
   "id": "fd5d74d7",
   "metadata": {},
   "outputs": [],
   "source": [
    "df_green_revenue = spark.read.parquet('data/report/revenue/green')\n",
    "df_yellow_revenue = spark.read.parquet('data/report/revenue/yellow')"
   ]
  },
  {
   "cell_type": "code",
   "execution_count": 4,
   "id": "35015ee6",
   "metadata": {},
   "outputs": [],
   "source": [
    "df_green_revenue_tmp = df_green_revenue \\\n",
    "    .withColumnRenamed('amount', 'green_amount') \\\n",
    "    .withColumnRenamed('number_records', 'green_number_records')\n",
    "\n",
    "df_yellow_revenue_tmp = df_yellow_revenue \\\n",
    "    .withColumnRenamed('amount', 'yellow_amount') \\\n",
    "    .withColumnRenamed('number_records', 'yellow_number_records')"
   ]
  },
  {
   "cell_type": "code",
   "execution_count": 5,
   "id": "ec9f34ea",
   "metadata": {},
   "outputs": [],
   "source": [
    "df_join = df_green_revenue_tmp.join(df_yellow_revenue_tmp, on=['hour', 'zone'], how='outer')"
   ]
  },
  {
   "cell_type": "code",
   "execution_count": 6,
   "id": "10238be7",
   "metadata": {},
   "outputs": [],
   "source": [
    "df_join.write.parquet('data/report/revenue/total', mode='overwrite')"
   ]
  },
  {
   "cell_type": "code",
   "execution_count": 7,
   "id": "c3af7169",
   "metadata": {},
   "outputs": [],
   "source": [
    "df_join = spark.read.parquet('data/report/revenue/total')"
   ]
  },
  {
   "cell_type": "code",
   "execution_count": 8,
   "id": "bc2a6680",
   "metadata": {},
   "outputs": [
    {
     "data": {
      "text/plain": [
       "DataFrame[hour: timestamp, zone: int, green_amount: double, green_number_records: bigint, yellow_amount: double, yellow_number_records: bigint]"
      ]
     },
     "execution_count": 8,
     "metadata": {},
     "output_type": "execute_result"
    }
   ],
   "source": [
    "df_join"
   ]
  },
  {
   "cell_type": "code",
   "execution_count": 10,
   "id": "abb46398",
   "metadata": {},
   "outputs": [],
   "source": [
    "df_zones = spark.read.parquet('data/pq/zones/')"
   ]
  },
  {
   "cell_type": "code",
   "execution_count": 11,
   "id": "b3cf98a5",
   "metadata": {},
   "outputs": [],
   "source": [
    "df_result = df_join.join(df_zones, df_join.zone == df_zones.LocationID)"
   ]
  },
  {
   "cell_type": "code",
   "execution_count": 13,
   "id": "5e0614ba",
   "metadata": {},
   "outputs": [],
   "source": [
    "df_result.drop('LocationID', 'zone').write.parquet('data/tmp/revenue-zones')"
   ]
  },
  {
   "cell_type": "code",
   "execution_count": 14,
   "id": "9f5ca913",
   "metadata": {},
   "outputs": [
    {
     "name": "stdout",
     "output_type": "stream",
     "text": [
      "+-------------------+----+------------------+--------------------+------------------+---------------------+----------+---------+--------------------+------------+\n",
      "|               hour|zone|      green_amount|green_number_records|     yellow_amount|yellow_number_records|LocationID|  Borough|                Zone|service_zone|\n",
      "+-------------------+----+------------------+--------------------+------------------+---------------------+----------+---------+--------------------+------------+\n",
      "|2020-01-01 01:00:00| 139|             69.28|                   2|              null|                 null|       139|   Queens|           Laurelton|   Boro Zone|\n",
      "|2020-01-01 02:00:00| 228|              null|                null| 92.13999999999999|                    3|       228| Brooklyn|    Sunset Park West|   Boro Zone|\n",
      "|2020-01-01 02:00:00| 246|              null|                null| 5236.380000000003|                  250|       246|Manhattan|West Chelsea/Huds...| Yellow Zone|\n",
      "|2020-01-01 05:00:00| 163|              null|                null|           1082.42|                   44|       163|Manhattan|       Midtown North| Yellow Zone|\n",
      "|2020-01-01 06:00:00|  66|              null|                null|              8.16|                    1|        66| Brooklyn|  DUMBO/Vinegar Hill|   Boro Zone|\n",
      "|2020-01-01 06:00:00| 114|              null|                null| 396.2900000000001|                   21|       114|Manhattan|Greenwich Village...| Yellow Zone|\n",
      "|2020-01-01 08:00:00| 146|56.129999999999995|                   2|            138.72|                    9|       146|   Queens|Long Island City/...|   Boro Zone|\n",
      "|2020-01-01 09:00:00| 106|             53.88|                   2|              null|                 null|       106| Brooklyn|             Gowanus|   Boro Zone|\n",
      "|2020-01-01 10:00:00|  35|               5.3|                   1|              null|                 null|        35| Brooklyn|         Brownsville|   Boro Zone|\n",
      "|2020-01-01 11:00:00| 136|              null|                null|             46.75|                    1|       136|    Bronx| Kingsbridge Heights|   Boro Zone|\n",
      "|2020-01-01 13:00:00| 252|             44.73|                   2|              null|                 null|       252|   Queens|          Whitestone|   Boro Zone|\n",
      "|2020-01-01 15:00:00|  37|              38.1|                   2|            114.86|                    3|        37| Brooklyn|      Bushwick South|   Boro Zone|\n",
      "|2020-01-01 15:00:00| 119|             36.18|                   2|              null|                 null|       119|    Bronx|          Highbridge|   Boro Zone|\n",
      "|2020-01-01 15:00:00| 123|             35.71|                   2|              null|                 null|       123| Brooklyn|           Homecrest|   Boro Zone|\n",
      "|2020-01-01 16:00:00|  80|            174.61|                   6|              null|                 null|        80| Brooklyn|   East Williamsburg|   Boro Zone|\n",
      "|2020-01-01 16:00:00| 185|              13.8|                   1|              null|                 null|       185|    Bronx|      Pelham Parkway|   Boro Zone|\n",
      "|2020-01-01 17:00:00|  68|              null|                null| 3059.279999999998|                  179|        68|Manhattan|        East Chelsea| Yellow Zone|\n",
      "|2020-01-01 17:00:00| 140|              null|                null|1670.1599999999994|                  108|       140|Manhattan|     Lenox Hill East| Yellow Zone|\n",
      "|2020-01-01 17:00:00| 168|             64.87|                   3|              null|                 null|       168|    Bronx|Mott Haven/Port M...|   Boro Zone|\n",
      "|2020-01-02 00:00:00| 153|               9.3|                   1|              null|                 null|       153|Manhattan|         Marble Hill|   Boro Zone|\n",
      "+-------------------+----+------------------+--------------------+------------------+---------------------+----------+---------+--------------------+------------+\n",
      "only showing top 20 rows\n",
      "\n"
     ]
    }
   ],
   "source": [
    "df_result.show()"
   ]
  },
  {
   "cell_type": "code",
   "execution_count": null,
   "id": "725bfd78-54b3-4859-a196-b4ccd755c57d",
   "metadata": {},
   "outputs": [],
   "source": []
  }
 ],
 "metadata": {
  "kernelspec": {
   "display_name": "Python 3 (ipykernel)",
   "language": "python",
   "name": "python3"
  },
  "language_info": {
   "codemirror_mode": {
    "name": "ipython",
    "version": 3
   },
   "file_extension": ".py",
   "mimetype": "text/x-python",
   "name": "python",
   "nbconvert_exporter": "python",
   "pygments_lexer": "ipython3",
   "version": "3.9.0"
  }
 },
 "nbformat": 4,
 "nbformat_minor": 5
}
