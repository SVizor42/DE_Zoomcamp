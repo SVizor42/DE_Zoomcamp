{
 "cells": [
  {
   "cell_type": "markdown",
   "id": "ba3d346a-f4cf-461a-bcfb-3a6155a092e8",
   "metadata": {
    "tags": []
   },
   "source": [
    "## Week 5 Homework"
   ]
  },
  {
   "cell_type": "markdown",
   "id": "ee68603a-02bd-4a19-b3ad-b5fac39440bf",
   "metadata": {},
   "source": [
    "In this homework we'll put what we learned about Spark in practice.\n",
    "\n",
    "We'll use high volume for-hire vehicles (HVFHV) dataset for that."
   ]
  },
  {
   "cell_type": "code",
   "execution_count": 1,
   "id": "e5e52fdf-acc4-40ce-aeda-41c6b34bd5f5",
   "metadata": {},
   "outputs": [],
   "source": [
    "import pandas as pd\n",
    "import pyspark\n",
    "from pyspark.sql import types, SparkSession, functions as F"
   ]
  },
  {
   "cell_type": "code",
   "execution_count": 2,
   "id": "cb31eb54-0631-45f0-b03f-8957ddb71a7e",
   "metadata": {},
   "outputs": [],
   "source": [
    "spark = SparkSession.builder \\\n",
    "    .master(\"local[*]\") \\\n",
    "    .appName('test') \\\n",
    "    .getOrCreate()"
   ]
  },
  {
   "cell_type": "markdown",
   "id": "409764e0-d892-4d7a-8ded-6be0de40098b",
   "metadata": {},
   "source": [
    "### Question 1: Version of PySpark"
   ]
  },
  {
   "cell_type": "markdown",
   "id": "3ecaccbc-3233-45f5-959d-9a5e64e794c6",
   "metadata": {},
   "source": [
    "* Install Spark\n",
    "* Run PySpark\n",
    "* Create a local spark session\n",
    "* Execute `spark.version`\n",
    "\n",
    "What's the output?"
   ]
  },
  {
   "cell_type": "code",
   "execution_count": 3,
   "id": "74cef3ba-da95-49d4-8e8a-b51f4967c73d",
   "metadata": {},
   "outputs": [
    {
     "data": {
      "text/plain": [
       "'3.0.3'"
      ]
     },
     "execution_count": 3,
     "metadata": {},
     "output_type": "execute_result"
    }
   ],
   "source": [
    "spark.version"
   ]
  },
  {
   "cell_type": "markdown",
   "id": "d1719a2e-5527-4a98-a8b6-921e799eabef",
   "metadata": {},
   "source": [
    "### Question 2: Size of HVFHW February 2021"
   ]
  },
  {
   "cell_type": "markdown",
   "id": "1411d1d0-290f-4df7-8d9e-f0a9b416e970",
   "metadata": {},
   "source": [
    "Download the HVFHV data for february 2021:\n",
    "```bash\n",
    "wget https://nyc-tlc.s3.amazonaws.com/trip+data/fhvhv_tripdata_2021-02.csv\n",
    "```\n",
    "Read it with Spark using the same schema as we did in the lessons. We will use this dataset for all the remaining questions.\n",
    "\n",
    "Repartition it to 24 partitions and save it to parquet.\n",
    "\n",
    "What's the size of the folder with results (in MB)?"
   ]
  },
  {
   "cell_type": "code",
   "execution_count": null,
   "id": "42aa2505-2cc1-4e4d-8f69-2772b9ec2dc4",
   "metadata": {},
   "outputs": [],
   "source": [
    "!wget --directory-prefix=data/raw/fhvhv https://nyc-tlc.s3.amazonaws.com/trip+data/fhvhv_tripdata_2021-02.csv"
   ]
  },
  {
   "cell_type": "markdown",
   "id": "27807c7c-c843-4b51-ab2a-e0c539780383",
   "metadata": {},
   "source": [
    "```bash\n",
    "!wc -l data/raw/fhvhv/fhvhv_tripdata_2021-02.csv\n",
    "11613943 data/raw/fhvhv/fhvhv_tripdata_2021-02.csv\n",
    "```"
   ]
  },
  {
   "cell_type": "code",
   "execution_count": 12,
   "id": "1c22290c-27d0-4f3d-99b2-dbb314a00cd9",
   "metadata": {},
   "outputs": [],
   "source": [
    "schema = types.StructType([\n",
    "    types.StructField('hvfhs_license_num', types.StringType(), True),\n",
    "    types.StructField('dispatching_base_num', types.StringType(), True),\n",
    "    types.StructField('pickup_datetime', types.TimestampType(), True),\n",
    "    types.StructField('dropoff_datetime', types.TimestampType(), True),\n",
    "    types.StructField('PULocationID', types.IntegerType(), True),\n",
    "    types.StructField('DOLocationID', types.IntegerType(), True),\n",
    "    types.StructField('SR_Flag', types.StringType(), True)\n",
    "])"
   ]
  },
  {
   "cell_type": "code",
   "execution_count": 13,
   "id": "afc22dea-1a51-4788-9c92-2622dda43bc3",
   "metadata": {},
   "outputs": [],
   "source": [
    "df = spark.read \\\n",
    "    .option(\"header\", \"true\") \\\n",
    "    .schema(schema) \\\n",
    "    .csv('data/raw/fhvhv/fhvhv_tripdata_2021-02.csv')"
   ]
  },
  {
   "cell_type": "code",
   "execution_count": 15,
   "id": "70ee20ef-ab28-4faf-8e73-81b636c35fd6",
   "metadata": {},
   "outputs": [
    {
     "name": "stdout",
     "output_type": "stream",
     "text": [
      "root\n",
      " |-- hvfhs_license_num: string (nullable = true)\n",
      " |-- dispatching_base_num: string (nullable = true)\n",
      " |-- pickup_datetime: timestamp (nullable = true)\n",
      " |-- dropoff_datetime: timestamp (nullable = true)\n",
      " |-- PULocationID: integer (nullable = true)\n",
      " |-- DOLocationID: integer (nullable = true)\n",
      " |-- SR_Flag: string (nullable = true)\n",
      "\n"
     ]
    }
   ],
   "source": [
    "df.printSchema()"
   ]
  },
  {
   "cell_type": "code",
   "execution_count": 18,
   "id": "fb62fc38-78c2-4a32-aea4-4f11282dbbc7",
   "metadata": {},
   "outputs": [],
   "source": [
    "df.repartition(24) \\\n",
    "    .write.parquet('data/pq/fhvhv/2021/02/')"
   ]
  },
  {
   "cell_type": "markdown",
   "id": "ae6638e3-32a1-40ae-9a9c-e18448d79e67",
   "metadata": {},
   "source": [
    "```bash\n",
    "ls -lh data/pq/fhvhv/2021/02/\n",
    "total 206M\n",
    "```"
   ]
  },
  {
   "cell_type": "markdown",
   "id": "c9b58821-f798-42fd-a125-60ea51aaf580",
   "metadata": {},
   "source": [
    "### Question 3: Records on Feb 2021 "
   ]
  },
  {
   "cell_type": "markdown",
   "id": "05373bfe-7ac2-42dc-8fba-c1748a6d7f99",
   "metadata": {},
   "source": [
    "How many taxi trips were there on February 15?\n",
    "\n",
    "Consider only trips that started on February 15."
   ]
  },
  {
   "cell_type": "code",
   "execution_count": 4,
   "id": "ecae0fab-22ec-4f4d-a67f-69d05c448727",
   "metadata": {},
   "outputs": [],
   "source": [
    "df_fhvhv = spark.read.parquet('data/pq/fhvhv/*/*')"
   ]
  },
  {
   "cell_type": "code",
   "execution_count": 5,
   "id": "ad73b477-cc7b-46e3-9531-85f79ce35aca",
   "metadata": {},
   "outputs": [
    {
     "data": {
      "text/plain": [
       "['hvfhs_license_num',\n",
       " 'dispatching_base_num',\n",
       " 'pickup_datetime',\n",
       " 'dropoff_datetime',\n",
       " 'PULocationID',\n",
       " 'DOLocationID',\n",
       " 'SR_Flag']"
      ]
     },
     "execution_count": 5,
     "metadata": {},
     "output_type": "execute_result"
    }
   ],
   "source": [
    "df_fhvhv.columns"
   ]
  },
  {
   "cell_type": "code",
   "execution_count": 6,
   "id": "95be81ca-e647-4746-ac19-b79c9480c6c0",
   "metadata": {},
   "outputs": [],
   "source": [
    "df_fhvhv = df_fhvhv \\\n",
    "    .withColumn('pickup_date', F.to_date('pickup_datetime'))"
   ]
  },
  {
   "cell_type": "code",
   "execution_count": 7,
   "id": "c26838fa-a4cb-4ea0-848d-b13b7b8da7a1",
   "metadata": {},
   "outputs": [
    {
     "name": "stdout",
     "output_type": "stream",
     "text": [
      "root\n",
      " |-- hvfhs_license_num: string (nullable = true)\n",
      " |-- dispatching_base_num: string (nullable = true)\n",
      " |-- pickup_datetime: timestamp (nullable = true)\n",
      " |-- dropoff_datetime: timestamp (nullable = true)\n",
      " |-- PULocationID: integer (nullable = true)\n",
      " |-- DOLocationID: integer (nullable = true)\n",
      " |-- SR_Flag: string (nullable = true)\n",
      " |-- pickup_date: date (nullable = true)\n",
      "\n"
     ]
    }
   ],
   "source": [
    "df_fhvhv.printSchema()"
   ]
  },
  {
   "cell_type": "code",
   "execution_count": 8,
   "id": "f89c2923-c51e-424a-aefb-81506b0996d1",
   "metadata": {},
   "outputs": [
    {
     "name": "stdout",
     "output_type": "stream",
     "text": [
      "+-----------------+--------------------+-------------------+-------------------+------------+------------+-------+-----------+\n",
      "|hvfhs_license_num|dispatching_base_num|    pickup_datetime|   dropoff_datetime|PULocationID|DOLocationID|SR_Flag|pickup_date|\n",
      "+-----------------+--------------------+-------------------+-------------------+------------+------------+-------+-----------+\n",
      "|           HV0003|              B02765|2021-02-03 19:55:14|2021-02-03 20:05:58|         143|         164|   null| 2021-02-03|\n",
      "|           HV0003|              B02764|2021-02-04 12:57:01|2021-02-04 12:59:18|         205|         205|   null| 2021-02-04|\n",
      "|           HV0003|              B02880|2021-02-04 20:27:39|2021-02-04 20:37:28|         258|         134|   null| 2021-02-04|\n",
      "|           HV0003|              B02887|2021-02-05 06:21:51|2021-02-05 06:38:33|          57|         242|   null| 2021-02-05|\n",
      "|           HV0003|              B02865|2021-02-01 07:17:28|2021-02-01 07:25:20|          76|          35|   null| 2021-02-01|\n",
      "|           HV0003|              B02878|2021-02-03 07:35:03|2021-02-03 07:50:28|          32|         265|   null| 2021-02-03|\n",
      "|           HV0003|              B02888|2021-02-03 18:23:56|2021-02-03 18:35:25|         148|         113|   null| 2021-02-03|\n",
      "|           HV0005|              B02510|2021-02-03 10:47:07|2021-02-03 10:57:02|         210|          29|   null| 2021-02-03|\n",
      "|           HV0005|              B02510|2021-02-03 16:13:39|2021-02-03 16:31:34|         151|          74|   null| 2021-02-03|\n",
      "|           HV0005|              B02510|2021-02-03 15:50:06|2021-02-03 16:23:12|          69|          51|   null| 2021-02-03|\n",
      "+-----------------+--------------------+-------------------+-------------------+------------+------------+-------+-----------+\n",
      "only showing top 10 rows\n",
      "\n"
     ]
    }
   ],
   "source": [
    "df_fhvhv.show(10)"
   ]
  },
  {
   "cell_type": "code",
   "execution_count": 9,
   "id": "0c846c9d-03dd-4fea-a5d0-bdfc28bbdc3e",
   "metadata": {},
   "outputs": [],
   "source": [
    "df_fhvhv.registerTempTable('trips_data')"
   ]
  },
  {
   "cell_type": "code",
   "execution_count": 10,
   "id": "a8b1e5e6-3ab5-4e2a-bca1-14c517c49967",
   "metadata": {},
   "outputs": [
    {
     "name": "stdout",
     "output_type": "stream",
     "text": [
      "+------+\n",
      "| trips|\n",
      "+------+\n",
      "|367170|\n",
      "+------+\n",
      "\n"
     ]
    }
   ],
   "source": [
    "spark.sql(\"\"\"\n",
    "SELECT \n",
    "    COUNT(*) AS trips\n",
    "FROM \n",
    "    trips_data\n",
    "WHERE \n",
    "    pickup_date == '2021-02-15'\n",
    "\"\"\").show()"
   ]
  },
  {
   "cell_type": "markdown",
   "id": "63f70702-d65f-4b62-9638-0303e6265817",
   "metadata": {},
   "source": [
    "### Question 4: Day with the longest trip"
   ]
  },
  {
   "cell_type": "markdown",
   "id": "621432eb-dbc1-4813-b9a3-178b827d251a",
   "metadata": {},
   "source": [
    "Now calculate the duration for each trip.\n",
    "\n",
    "Trip starting on which day was the longest?"
   ]
  },
  {
   "cell_type": "code",
   "execution_count": 11,
   "id": "e6516957-b543-4af0-a4ae-d535e85f1977",
   "metadata": {},
   "outputs": [
    {
     "name": "stdout",
     "output_type": "stream",
     "text": [
      "+-----------+-------------------+-------------------+--------------------+-----------------+\n",
      "|pickup_date|    pickup_datetime|   dropoff_datetime|       trip_duration|trip_duration_int|\n",
      "+-----------+-------------------+-------------------+--------------------+-----------------+\n",
      "| 2021-02-11|2021-02-11 13:40:44|2021-02-12 10:39:44| 20 hours 59 minutes|            75540|\n",
      "| 2021-02-17|2021-02-17 15:54:53|2021-02-18 07:48:34|15 hours 53 minut...|            57221|\n",
      "| 2021-02-20|2021-02-20 12:08:15|2021-02-21 00:22:14|12 hours 13 minut...|            44039|\n",
      "| 2021-02-03|2021-02-03 20:24:25|2021-02-04 07:41:58|11 hours 17 minut...|            40653|\n",
      "| 2021-02-19|2021-02-19 23:17:44|2021-02-20 09:44:01|10 hours 26 minut...|            37577|\n",
      "| 2021-02-25|2021-02-25 17:13:35|2021-02-26 02:57:05|9 hours 43 minute...|            35010|\n",
      "| 2021-02-20|2021-02-20 01:36:13|2021-02-20 11:16:19|9 hours 40 minute...|            34806|\n",
      "| 2021-02-18|2021-02-18 15:24:19|2021-02-19 01:01:11|9 hours 36 minute...|            34612|\n",
      "| 2021-02-18|2021-02-18 01:31:20|2021-02-18 11:07:15|9 hours 35 minute...|            34555|\n",
      "| 2021-02-10|2021-02-10 20:51:39|2021-02-11 06:21:08|9 hours 29 minute...|            34169|\n",
      "+-----------+-------------------+-------------------+--------------------+-----------------+\n",
      "only showing top 10 rows\n",
      "\n"
     ]
    }
   ],
   "source": [
    "spark.sql(\"\"\"\n",
    "SELECT \n",
    "    pickup_date,\n",
    "    pickup_datetime,\n",
    "    dropoff_datetime,\n",
    "    (dropoff_datetime - pickup_datetime) AS trip_duration,\n",
    "    (BIGINT(dropoff_datetime) - BIGINT(pickup_datetime)) AS trip_duration_int\n",
    "FROM \n",
    "    trips_data\n",
    "ORDER BY \n",
    "    trip_duration_int DESC\n",
    "\"\"\").show(10)"
   ]
  },
  {
   "cell_type": "markdown",
   "id": "d1dd60c8-857b-4bf3-87df-eec6172b165a",
   "metadata": {},
   "source": [
    "### Question 5: Stages for most frequent `dispatching_base_num`"
   ]
  },
  {
   "cell_type": "markdown",
   "id": "70e1f430-e78f-4943-a2d9-0d36a50790a1",
   "metadata": {},
   "source": [
    "Now find the most frequently occurring `dispatching_base_num` in this dataset.\n",
    "\n",
    "How many stages this spark job has?\n",
    "\n",
    "> Note: the answer may depend on how you write the query, so there are multiple correct answers. Select the one you have."
   ]
  },
  {
   "cell_type": "code",
   "execution_count": 14,
   "id": "8ecd48e9-c64d-4684-98b2-ff9cdba8adb1",
   "metadata": {},
   "outputs": [
    {
     "name": "stdout",
     "output_type": "stream",
     "text": [
      "+--------------------+-------+\n",
      "|dispatching_base_num|  trips|\n",
      "+--------------------+-------+\n",
      "|              B02510|3233664|\n",
      "|              B02764| 965568|\n",
      "|              B02872| 882689|\n",
      "|              B02875| 685390|\n",
      "|              B02765| 559768|\n",
      "|              B02869| 429720|\n",
      "|              B02887| 322331|\n",
      "|              B02871| 312364|\n",
      "|              B02864| 311603|\n",
      "|              B02866| 311089|\n",
      "+--------------------+-------+\n",
      "only showing top 10 rows\n",
      "\n"
     ]
    }
   ],
   "source": [
    "spark.sql(\"\"\"\n",
    "SELECT \n",
    "    dispatching_base_num,\n",
    "    COUNT(*) AS trips\n",
    "FROM \n",
    "    trips_data\n",
    "GROUP BY \n",
    "    dispatching_base_num\n",
    "ORDER BY \n",
    "    trips DESC\n",
    "\"\"\").show(10)"
   ]
  },
  {
   "cell_type": "markdown",
   "id": "d4e5a2af-9cea-4df0-8d99-4846e9027104",
   "metadata": {},
   "source": [
    ">Answer: 2 stages."
   ]
  },
  {
   "cell_type": "markdown",
   "id": "bf4df354-612b-4533-8a75-52ebab15c6df",
   "metadata": {},
   "source": [
    "### Question 6: Most common locations pair"
   ]
  },
  {
   "cell_type": "markdown",
   "id": "543295be-3cf9-44cc-981f-61644382724e",
   "metadata": {},
   "source": [
    "Find the most common pickup-dropoff pair.\n",
    "\n",
    "For example:\n",
    "\n",
    "`\"Jamaica Bay / Clinton East\"`\n",
    "\n",
    "Enter two zone names separated by a slash\n",
    "\n",
    "If any of the zone names are unknown (missing), use `\"Unknown\"`. For example, `\"Unknown / Clinton East\"`."
   ]
  },
  {
   "cell_type": "code",
   "execution_count": 15,
   "id": "a09d8a73-0eeb-453f-9220-96291f62b462",
   "metadata": {},
   "outputs": [
    {
     "name": "stderr",
     "output_type": "stream",
     "text": [
      "--2022-02-28 13:33:53--  https://s3.amazonaws.com/nyc-tlc/misc/taxi+_zone_lookup.csv\n",
      "Resolving s3.amazonaws.com (s3.amazonaws.com)... 52.216.95.173\n",
      "Connecting to s3.amazonaws.com (s3.amazonaws.com)|52.216.95.173|:443... connected.\n",
      "HTTP request sent, awaiting response... 200 OK\n",
      "Length: 12322 (12K) [application/octet-stream]\n",
      "Saving to: 'data/raw/zones/taxi+_zone_lookup.csv'\n",
      "\n",
      "     0K .......... ..                                         100% 2,58M=0,005s\n",
      "\n",
      "2022-02-28 13:33:53 (2,58 MB/s) - 'data/raw/zones/taxi+_zone_lookup.csv' saved [12322/12322]\n",
      "\n"
     ]
    }
   ],
   "source": [
    "!wget --directory-prefix=data/raw/zones https://s3.amazonaws.com/nyc-tlc/misc/taxi+_zone_lookup.csv"
   ]
  },
  {
   "cell_type": "code",
   "execution_count": 19,
   "id": "871c2164-39a5-4f3a-a2f4-a9500c796823",
   "metadata": {},
   "outputs": [],
   "source": [
    "zones_schema = types.StructType([\n",
    "    types.StructField('LocationID', types.IntegerType(), True),\n",
    "    types.StructField('Borough', types.StringType(), True),\n",
    "    types.StructField('Zone', types.StringType(), True),\n",
    "    types.StructField('service_zone', types.StringType(), True),\n",
    "])"
   ]
  },
  {
   "cell_type": "code",
   "execution_count": 20,
   "id": "a9921d16-89a5-45af-9cd6-8787ce5c47a8",
   "metadata": {},
   "outputs": [],
   "source": [
    "df_zones = spark.read \\\n",
    "    .option(\"header\", \"true\") \\\n",
    "    .schema(zones_schema) \\\n",
    "    .csv('data/raw/zones/taxi+_zone_lookup.csv')"
   ]
  },
  {
   "cell_type": "code",
   "execution_count": 21,
   "id": "63f754a6-8c23-4c02-9343-a54e35f0a732",
   "metadata": {},
   "outputs": [
    {
     "name": "stdout",
     "output_type": "stream",
     "text": [
      "root\n",
      " |-- LocationID: integer (nullable = true)\n",
      " |-- Borough: string (nullable = true)\n",
      " |-- Zone: string (nullable = true)\n",
      " |-- service_zone: string (nullable = true)\n",
      "\n"
     ]
    }
   ],
   "source": [
    "df_zones.printSchema()"
   ]
  },
  {
   "cell_type": "code",
   "execution_count": 35,
   "id": "111f0e57-0f80-4a7a-8bb0-85044906fe60",
   "metadata": {},
   "outputs": [
    {
     "name": "stdout",
     "output_type": "stream",
     "text": [
      "+----------+-------------+--------------------+------------+\n",
      "|LocationID|      Borough|                Zone|service_zone|\n",
      "+----------+-------------+--------------------+------------+\n",
      "|         1|          EWR|      Newark Airport|         EWR|\n",
      "|         2|       Queens|         Jamaica Bay|   Boro Zone|\n",
      "|         3|        Bronx|Allerton/Pelham G...|   Boro Zone|\n",
      "|         4|    Manhattan|       Alphabet City| Yellow Zone|\n",
      "|         5|Staten Island|       Arden Heights|   Boro Zone|\n",
      "|         6|Staten Island|Arrochar/Fort Wad...|   Boro Zone|\n",
      "|         7|       Queens|             Astoria|   Boro Zone|\n",
      "|         8|       Queens|        Astoria Park|   Boro Zone|\n",
      "|         9|       Queens|          Auburndale|   Boro Zone|\n",
      "|        10|       Queens|        Baisley Park|   Boro Zone|\n",
      "+----------+-------------+--------------------+------------+\n",
      "only showing top 10 rows\n",
      "\n"
     ]
    }
   ],
   "source": [
    "df_zones.show(10)"
   ]
  },
  {
   "cell_type": "code",
   "execution_count": 57,
   "id": "e667d75a-eadd-4691-b713-4e05d662d340",
   "metadata": {},
   "outputs": [],
   "source": [
    "df_zpu = df_zones \\\n",
    "    .withColumnRenamed('LocationID', 'zpuLocationID') \\\n",
    "    .withColumnRenamed('Zone', 'zpuZone') \\\n",
    "    .drop('Borough', 'service_zone')\n",
    "\n",
    "df_zdo = df_zones \\\n",
    "    .withColumnRenamed('LocationID', 'zdoLocationID') \\\n",
    "    .withColumnRenamed('Zone', 'zdoZone') \\\n",
    "    .drop('Borough', 'service_zone')"
   ]
  },
  {
   "cell_type": "code",
   "execution_count": 66,
   "id": "31b7334c-7139-4d78-8153-fbd4202eee5f",
   "metadata": {},
   "outputs": [],
   "source": [
    "df_join = df_fhvhv \\\n",
    "    .join(df_zpu, df_fhvhv.PULocationID == df_zpu.zpuLocationID) \\\n",
    "    .join(df_zdo, df_fhvhv.DOLocationID == df_zdo.zdoLocationID)"
   ]
  },
  {
   "cell_type": "code",
   "execution_count": 68,
   "id": "bffb8375-11c0-46fc-9a1a-6b06312e3a9f",
   "metadata": {},
   "outputs": [
    {
     "name": "stdout",
     "output_type": "stream",
     "text": [
      "+-----------------+--------------------+-------------------+-------------------+------------+------------+-------+-----------+-------------+--------------------+-------------+--------------------+\n",
      "|hvfhs_license_num|dispatching_base_num|    pickup_datetime|   dropoff_datetime|PULocationID|DOLocationID|SR_Flag|pickup_date|zpuLocationID|             zpuZone|zdoLocationID|             zdoZone|\n",
      "+-----------------+--------------------+-------------------+-------------------+------------+------------+-------+-----------+-------------+--------------------+-------------+--------------------+\n",
      "|           HV0003|              B02765|2021-02-03 19:55:14|2021-02-03 20:05:58|         143|         164|   null| 2021-02-03|          143| Lincoln Square West|          164|       Midtown South|\n",
      "|           HV0003|              B02764|2021-02-04 12:57:01|2021-02-04 12:59:18|         205|         205|   null| 2021-02-04|          205|        Saint Albans|          205|        Saint Albans|\n",
      "|           HV0003|              B02880|2021-02-04 20:27:39|2021-02-04 20:37:28|         258|         134|   null| 2021-02-04|          258|           Woodhaven|          134|         Kew Gardens|\n",
      "|           HV0003|              B02887|2021-02-05 06:21:51|2021-02-05 06:38:33|          57|         242|   null| 2021-02-05|           57|              Corona|          242|Van Nest/Morris Park|\n",
      "|           HV0003|              B02865|2021-02-01 07:17:28|2021-02-01 07:25:20|          76|          35|   null| 2021-02-01|           76|       East New York|           35|         Brownsville|\n",
      "|           HV0003|              B02878|2021-02-03 07:35:03|2021-02-03 07:50:28|          32|         265|   null| 2021-02-03|           32|           Bronxdale|          265|                  NA|\n",
      "|           HV0003|              B02888|2021-02-03 18:23:56|2021-02-03 18:35:25|         148|         113|   null| 2021-02-03|          148|     Lower East Side|          113|Greenwich Village...|\n",
      "|           HV0005|              B02510|2021-02-03 10:47:07|2021-02-03 10:57:02|         210|          29|   null| 2021-02-03|          210|      Sheepshead Bay|           29|      Brighton Beach|\n",
      "|           HV0005|              B02510|2021-02-03 16:13:39|2021-02-03 16:31:34|         151|          74|   null| 2021-02-03|          151|    Manhattan Valley|           74|   East Harlem North|\n",
      "|           HV0005|              B02510|2021-02-03 15:50:06|2021-02-03 16:23:12|          69|          51|   null| 2021-02-03|           69|East Concourse/Co...|           51|          Co-Op City|\n",
      "+-----------------+--------------------+-------------------+-------------------+------------+------------+-------+-----------+-------------+--------------------+-------------+--------------------+\n",
      "only showing top 10 rows\n",
      "\n"
     ]
    }
   ],
   "source": [
    "df_join.show(10)"
   ]
  },
  {
   "cell_type": "code",
   "execution_count": 70,
   "id": "42df19b3-440b-4c7a-bc8f-d6fead359631",
   "metadata": {},
   "outputs": [],
   "source": [
    "df_join \\\n",
    "    .drop('SR_Flag', 'pickup_date', 'zpuLocationID', 'zdoLocationID') \\\n",
    "    .write.parquet('data/pq/locations-pairs')"
   ]
  },
  {
   "cell_type": "code",
   "execution_count": 71,
   "id": "3aca8b6c-02ad-4ef6-a404-c4eaeefc4138",
   "metadata": {},
   "outputs": [],
   "source": [
    "df_join.registerTempTable('locations_table')"
   ]
  },
  {
   "cell_type": "code",
   "execution_count": 82,
   "id": "4dd8c714-67e0-4ae7-99f0-174d49851c52",
   "metadata": {},
   "outputs": [
    {
     "name": "stdout",
     "output_type": "stream",
     "text": [
      "+--------------------+-----+\n",
      "|           locations|trips|\n",
      "+--------------------+-----+\n",
      "|East New York/Eas...|45041|\n",
      "|Borough Park/Boro...|37329|\n",
      "|   Canarsie/Canarsie|28026|\n",
      "|Crown Heights Nor...|25976|\n",
      "| Bay Ridge/Bay Ridge|17934|\n",
      "|Jackson Heights/J...|14688|\n",
      "|     Astoria/Astoria|14688|\n",
      "|Central Harlem No...|14481|\n",
      "|Bushwick South/Bu...|14424|\n",
      "|Flatbush/Ditmas P...|13976|\n",
      "+--------------------+-----+\n",
      "only showing top 10 rows\n",
      "\n"
     ]
    }
   ],
   "source": [
    "spark.sql(\"\"\"\n",
    "SELECT \n",
    "    CONCAT(COALESCE(zpuZone, 'Unknown'), '/', COALESCE(zdoZone, 'Unknown')) AS locations,\n",
    "    COUNT(1) AS trips\n",
    "FROM \n",
    "    locations_table\n",
    "GROUP BY \n",
    "    locations\n",
    "ORDER BY \n",
    "    trips DESC\n",
    "\"\"\").show(10)"
   ]
  },
  {
   "cell_type": "markdown",
   "id": "41eedb87-761e-4ef8-aeb2-57ab8116678f",
   "metadata": {},
   "source": [
    "### Bonus question. Join type"
   ]
  },
  {
   "cell_type": "markdown",
   "id": "b53baa3b-5d35-4965-b95e-018725311f6c",
   "metadata": {},
   "source": [
    "For finding the answer to Q6, you'll need to perform a join.\n",
    "\n",
    "What type of join is it?\n",
    "\n",
    "And how many stages your spark job has?"
   ]
  },
  {
   "cell_type": "markdown",
   "id": "5ff2bde7-50c1-4639-b144-b41bf832e60f",
   "metadata": {},
   "source": [
    ">Answer: Inner join. Spark job has 2 stages."
   ]
  }
 ],
 "metadata": {
  "kernelspec": {
   "display_name": "Python 3 (ipykernel)",
   "language": "python",
   "name": "python3"
  },
  "language_info": {
   "codemirror_mode": {
    "name": "ipython",
    "version": 3
   },
   "file_extension": ".py",
   "mimetype": "text/x-python",
   "name": "python",
   "nbconvert_exporter": "python",
   "pygments_lexer": "ipython3",
   "version": "3.9.0"
  }
 },
 "nbformat": 4,
 "nbformat_minor": 5
}
